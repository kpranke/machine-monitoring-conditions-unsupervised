{
 "cells": [
  {
   "cell_type": "code",
   "execution_count": 1,
   "id": "640b0517",
   "metadata": {},
   "outputs": [],
   "source": [
    "import pandas as pd\n",
    "import numpy as np\n",
    "import matplotlib.pyplot as plt\n",
    "%matplotlib inline\n",
    "import seaborn\n",
    "import librosa\n",
    "import librosa.display\n",
    "import IPython.display as ipd \n",
    "import os\n",
    "import csv"
   ]
  },
  {
   "cell_type": "code",
   "execution_count": 26,
   "id": "5251817c",
   "metadata": {},
   "outputs": [],
   "source": [
    "def slice_dataframe(machine):\n",
    "    \"\"\" Slice dataframe to get data for 6dB samples of abnormal and normal sounds.\"\"\"\n",
    "    df = pd.read_csv('anomaly_files.csv')\n",
    "    df_machine_sounds_abnorm = df[(df.dB == f'6_dB_{machine}') & (df.state == 'abnormal')]\n",
    "    df_machine_sounds_norm = df[(df.dB == f'6_dB_{machine}') & (df.state == 'normal')]\n",
    "    \n",
    "    return df_machine_sounds_abnorm, df_machine_sounds_norm"
   ]
  },
  {
   "cell_type": "code",
   "execution_count": 27,
   "id": "c4d6bf91",
   "metadata": {},
   "outputs": [],
   "source": [
    "def extract_feature(file_path, target):\n",
    "    \"\"\" Extract the following features: mfccs, delta_mfccs and delta2_mfccs.\"\"\"\n",
    "    X, sample_rate = librosa.load(file_path)\n",
    "\n",
    "    feature_dict = {}\n",
    "    \n",
    "    mfccs = np.mean(librosa.feature.mfcc(y=X, sr=sample_rate, n_mfcc=13).T,axis=0)\n",
    "    for idx, item in enumerate(mfccs):\n",
    "        feature_dict[f'mfccs{idx}'] = item\n",
    "    \n",
    "    zero_cross =  librosa.feature.zero_crossing_rate(y=X, frame_length=2048, hop_length=512, center=True)\n",
    "    for idx, item in enumerate(zero_cross[0]):\n",
    "        feature_dict[f'zero_cross{idx}'] = item\n",
    "        \n",
    "    rms = librosa.feature.rms(y=X, S=None, frame_length=2048, hop_length=512, center=True, pad_mode='reflect')\n",
    "    for idx, item in enumerate(rms[0]):\n",
    "        feature_dict[f'rms{idx}'] = item\n",
    "        \n",
    "    #delta_mfccs = librosa.feature.delta(mfccs)\n",
    "    #for idx, item in enumerate(delta_mfccs):\n",
    "    #    feature_dict[f'delta_mfccs{idx}'] = item\n",
    "        \n",
    "    #delta2_mfccs = librosa.feature.delta(mfccs, order=2)\n",
    "    #for idx, item in enumerate(delta2_mfccs):\n",
    "    #    feature_dict[f'delta2_mfccs{idx}'] = item\n",
    "    feature_dict['target'] = target\n",
    "   \n",
    "    return feature_dict\n",
    "#extract_feature('E:/Projects/factory_noises/6_dB_valve/valve/id_00/abnormal/00000037.wav', 1)"
   ]
  },
  {
   "cell_type": "code",
   "execution_count": 28,
   "id": "cecff430",
   "metadata": {},
   "outputs": [],
   "source": [
    "def get_features(df_path, target):\n",
    "    \"\"\" Put extracted features into a dataframe.\"\"\"\n",
    "    features = []\n",
    "    for row in df_path.file_path:\n",
    "        features.append(extract_feature(row, target))\n",
    "        print(f'Extracted features for {row}')\n",
    "    df_features = pd.DataFrame(features)    \n",
    "    return df_features    "
   ]
  },
  {
   "cell_type": "code",
   "execution_count": 29,
   "id": "c25b8028",
   "metadata": {},
   "outputs": [],
   "source": [
    "def store_features(df_norm, df_abnorm, features_file_name):\n",
    "    \"\"\" Save features into a .csv file.\"\"\"\n",
    "    df_features = pd.concat([df_norm, df_abnorm])\n",
    "    df_features.to_csv(features_file_name)"
   ]
  },
  {
   "cell_type": "code",
   "execution_count": 30,
   "id": "e7827562",
   "metadata": {},
   "outputs": [],
   "source": [
    "def retrieve_and_store_feature(machine, features_file_name):\n",
    "    \"\"\" Run all the functions to retrieve and store the features. Choose a machine and filename to store the information. \"\"\"\n",
    "    print('slicing dataframe')\n",
    "    df_machine_sounds_abnorm, df_machine_sounds_norm = slice_dataframe(machine)\n",
    "    \n",
    "    print('getting features')\n",
    "    df_norm = get_features(df_machine_sounds_norm, 1)\n",
    "    df_abnorm = get_features(df_machine_sounds_abnorm, 0)\n",
    "    \n",
    "    print('storing features')\n",
    "    store_features(df_norm, df_abnorm, features_file_name)"
   ]
  },
  {
   "cell_type": "code",
   "execution_count": 7,
   "id": "9a83808d",
   "metadata": {},
   "outputs": [
    {
     "name": "stdout",
     "output_type": "stream",
     "text": [
      "slicing dataframe\n",
      "getting features\n",
      "Extracted features for E:\\Projects\\factory_noises\\6_dB_valve\\valve\\id_00\\abnormal\\00000000.wav\n",
      "Extracted features for E:\\Projects\\factory_noises\\6_dB_valve\\valve\\id_00\\abnormal\\00000001.wav\n",
      "Extracted features for E:\\Projects\\factory_noises\\6_dB_valve\\valve\\id_00\\abnormal\\00000002.wav\n",
      "Extracted features for E:\\Projects\\factory_noises\\6_dB_valve\\valve\\id_00\\abnormal\\00000003.wav\n",
      "Extracted features for E:\\Projects\\factory_noises\\6_dB_valve\\valve\\id_00\\abnormal\\00000004.wav\n",
      "Extracted features for E:\\Projects\\factory_noises\\6_dB_valve\\valve\\id_00\\abnormal\\00000005.wav\n",
      "Extracted features for E:\\Projects\\factory_noises\\6_dB_valve\\valve\\id_00\\abnormal\\00000006.wav\n",
      "Extracted features for E:\\Projects\\factory_noises\\6_dB_valve\\valve\\id_00\\abnormal\\00000007.wav\n",
      "Extracted features for E:\\Projects\\factory_noises\\6_dB_valve\\valve\\id_00\\abnormal\\00000008.wav\n",
      "Extracted features for E:\\Projects\\factory_noises\\6_dB_valve\\valve\\id_00\\abnormal\\00000009.wav\n",
      "Extracted features for E:\\Projects\\factory_noises\\6_dB_valve\\valve\\id_00\\abnormal\\00000010.wav\n",
      "Extracted features for E:\\Projects\\factory_noises\\6_dB_valve\\valve\\id_00\\abnormal\\00000011.wav\n"
     ]
    },
    {
     "ename": "KeyboardInterrupt",
     "evalue": "",
     "output_type": "error",
     "traceback": [
      "\u001b[1;31m---------------------------------------------------------------------------\u001b[0m",
      "\u001b[1;31mKeyboardInterrupt\u001b[0m                         Traceback (most recent call last)",
      "\u001b[1;32m~\\AppData\\Local\\Temp/ipykernel_34020/2114477852.py\u001b[0m in \u001b[0;36m<module>\u001b[1;34m\u001b[0m\n\u001b[1;32m----> 1\u001b[1;33m \u001b[0mretrieve_and_store_feature\u001b[0m\u001b[1;33m(\u001b[0m\u001b[1;34m'valve'\u001b[0m\u001b[1;33m,\u001b[0m \u001b[1;34m'df_6dB_valve_fe_ta_imb.csv'\u001b[0m\u001b[1;33m)\u001b[0m\u001b[1;33m\u001b[0m\u001b[1;33m\u001b[0m\u001b[0m\n\u001b[0m",
      "\u001b[1;32m~\\AppData\\Local\\Temp/ipykernel_34020/3811826233.py\u001b[0m in \u001b[0;36mretrieve_and_store_feature\u001b[1;34m(machine, features_file_name)\u001b[0m\n\u001b[0;32m      5\u001b[0m \u001b[1;33m\u001b[0m\u001b[0m\n\u001b[0;32m      6\u001b[0m     \u001b[0mprint\u001b[0m\u001b[1;33m(\u001b[0m\u001b[1;34m'getting features'\u001b[0m\u001b[1;33m)\u001b[0m\u001b[1;33m\u001b[0m\u001b[1;33m\u001b[0m\u001b[0m\n\u001b[1;32m----> 7\u001b[1;33m     \u001b[0mdf_all_features\u001b[0m \u001b[1;33m=\u001b[0m \u001b[0mget_features\u001b[0m\u001b[1;33m(\u001b[0m\u001b[0mdf_machine_sounds\u001b[0m\u001b[1;33m)\u001b[0m\u001b[1;33m\u001b[0m\u001b[1;33m\u001b[0m\u001b[0m\n\u001b[0m\u001b[0;32m      8\u001b[0m     \u001b[0mprint\u001b[0m\u001b[1;33m(\u001b[0m\u001b[1;34m'storing features'\u001b[0m\u001b[1;33m)\u001b[0m\u001b[1;33m\u001b[0m\u001b[1;33m\u001b[0m\u001b[0m\n\u001b[0;32m      9\u001b[0m     \u001b[0mstore_features\u001b[0m\u001b[1;33m(\u001b[0m\u001b[0mdf_all_features\u001b[0m\u001b[1;33m,\u001b[0m \u001b[0mfeatures_file_name\u001b[0m\u001b[1;33m)\u001b[0m\u001b[1;33m\u001b[0m\u001b[1;33m\u001b[0m\u001b[0m\n",
      "\u001b[1;32m~\\AppData\\Local\\Temp/ipykernel_34020/2182375785.py\u001b[0m in \u001b[0;36mget_features\u001b[1;34m(df_path)\u001b[0m\n\u001b[0;32m      3\u001b[0m     \u001b[0mfeatures\u001b[0m \u001b[1;33m=\u001b[0m \u001b[1;33m[\u001b[0m\u001b[1;33m]\u001b[0m\u001b[1;33m\u001b[0m\u001b[1;33m\u001b[0m\u001b[0m\n\u001b[0;32m      4\u001b[0m     \u001b[1;32mfor\u001b[0m \u001b[0mrow\u001b[0m \u001b[1;32min\u001b[0m \u001b[0mdf_path\u001b[0m\u001b[1;33m.\u001b[0m\u001b[0mfile_path\u001b[0m\u001b[1;33m:\u001b[0m\u001b[1;33m\u001b[0m\u001b[1;33m\u001b[0m\u001b[0m\n\u001b[1;32m----> 5\u001b[1;33m         \u001b[0mfeatures\u001b[0m\u001b[1;33m.\u001b[0m\u001b[0mappend\u001b[0m\u001b[1;33m(\u001b[0m\u001b[0mextract_feature\u001b[0m\u001b[1;33m(\u001b[0m\u001b[0mrow\u001b[0m\u001b[1;33m)\u001b[0m\u001b[1;33m)\u001b[0m\u001b[1;33m\u001b[0m\u001b[1;33m\u001b[0m\u001b[0m\n\u001b[0m\u001b[0;32m      6\u001b[0m         \u001b[0mprint\u001b[0m\u001b[1;33m(\u001b[0m\u001b[1;34mf'Extracted features for {row}'\u001b[0m\u001b[1;33m)\u001b[0m\u001b[1;33m\u001b[0m\u001b[1;33m\u001b[0m\u001b[0m\n\u001b[0;32m      7\u001b[0m     \u001b[0mdf_features\u001b[0m \u001b[1;33m=\u001b[0m \u001b[0mpd\u001b[0m\u001b[1;33m.\u001b[0m\u001b[0mDataFrame\u001b[0m\u001b[1;33m(\u001b[0m\u001b[0mfeatures\u001b[0m\u001b[1;33m)\u001b[0m\u001b[1;33m\u001b[0m\u001b[1;33m\u001b[0m\u001b[0m\n",
      "\u001b[1;32m~\\AppData\\Local\\Temp/ipykernel_34020/1519219212.py\u001b[0m in \u001b[0;36mextract_feature\u001b[1;34m(file_path)\u001b[0m\n\u001b[0;32m      1\u001b[0m \u001b[1;32mdef\u001b[0m \u001b[0mextract_feature\u001b[0m\u001b[1;33m(\u001b[0m\u001b[0mfile_path\u001b[0m\u001b[1;33m)\u001b[0m\u001b[1;33m:\u001b[0m\u001b[1;33m\u001b[0m\u001b[1;33m\u001b[0m\u001b[0m\n\u001b[0;32m      2\u001b[0m     \u001b[1;34m\"\"\" Extract the following features: mfccs, delta_mfccs and delta2_mfccs.\"\"\"\u001b[0m\u001b[1;33m\u001b[0m\u001b[1;33m\u001b[0m\u001b[0m\n\u001b[1;32m----> 3\u001b[1;33m     \u001b[0mX\u001b[0m\u001b[1;33m,\u001b[0m \u001b[0msample_rate\u001b[0m \u001b[1;33m=\u001b[0m \u001b[0mlibrosa\u001b[0m\u001b[1;33m.\u001b[0m\u001b[0mload\u001b[0m\u001b[1;33m(\u001b[0m\u001b[0mfile_path\u001b[0m\u001b[1;33m)\u001b[0m\u001b[1;33m\u001b[0m\u001b[1;33m\u001b[0m\u001b[0m\n\u001b[0m\u001b[0;32m      4\u001b[0m \u001b[1;33m\u001b[0m\u001b[0m\n\u001b[0;32m      5\u001b[0m     \u001b[0mfeature_dict\u001b[0m \u001b[1;33m=\u001b[0m \u001b[1;33m{\u001b[0m\u001b[1;33m}\u001b[0m\u001b[1;33m\u001b[0m\u001b[1;33m\u001b[0m\u001b[0m\n",
      "\u001b[1;32mc:\\users\\kasia\\pyproj\\machine-monitoring-conditions-unsupervised\\my_env\\lib\\site-packages\\librosa\\core\\audio.py\u001b[0m in \u001b[0;36mload\u001b[1;34m(path, sr, mono, offset, duration, dtype, res_type)\u001b[0m\n\u001b[0;32m    173\u001b[0m \u001b[1;33m\u001b[0m\u001b[0m\n\u001b[0;32m    174\u001b[0m     \u001b[1;32mif\u001b[0m \u001b[0msr\u001b[0m \u001b[1;32mis\u001b[0m \u001b[1;32mnot\u001b[0m \u001b[1;32mNone\u001b[0m\u001b[1;33m:\u001b[0m\u001b[1;33m\u001b[0m\u001b[1;33m\u001b[0m\u001b[0m\n\u001b[1;32m--> 175\u001b[1;33m         \u001b[0my\u001b[0m \u001b[1;33m=\u001b[0m \u001b[0mresample\u001b[0m\u001b[1;33m(\u001b[0m\u001b[0my\u001b[0m\u001b[1;33m,\u001b[0m \u001b[0msr_native\u001b[0m\u001b[1;33m,\u001b[0m \u001b[0msr\u001b[0m\u001b[1;33m,\u001b[0m \u001b[0mres_type\u001b[0m\u001b[1;33m=\u001b[0m\u001b[0mres_type\u001b[0m\u001b[1;33m)\u001b[0m\u001b[1;33m\u001b[0m\u001b[1;33m\u001b[0m\u001b[0m\n\u001b[0m\u001b[0;32m    176\u001b[0m \u001b[1;33m\u001b[0m\u001b[0m\n\u001b[0;32m    177\u001b[0m     \u001b[1;32melse\u001b[0m\u001b[1;33m:\u001b[0m\u001b[1;33m\u001b[0m\u001b[1;33m\u001b[0m\u001b[0m\n",
      "\u001b[1;32mc:\\users\\kasia\\pyproj\\machine-monitoring-conditions-unsupervised\\my_env\\lib\\site-packages\\librosa\\core\\audio.py\u001b[0m in \u001b[0;36mresample\u001b[1;34m(y, orig_sr, target_sr, res_type, fix, scale, **kwargs)\u001b[0m\n\u001b[0;32m    602\u001b[0m         \u001b[0my_hat\u001b[0m \u001b[1;33m=\u001b[0m \u001b[0msoxr\u001b[0m\u001b[1;33m.\u001b[0m\u001b[0mresample\u001b[0m\u001b[1;33m(\u001b[0m\u001b[0my\u001b[0m\u001b[1;33m.\u001b[0m\u001b[0mT\u001b[0m\u001b[1;33m,\u001b[0m \u001b[0morig_sr\u001b[0m\u001b[1;33m,\u001b[0m \u001b[0mtarget_sr\u001b[0m\u001b[1;33m,\u001b[0m \u001b[0mquality\u001b[0m\u001b[1;33m=\u001b[0m\u001b[0mres_type\u001b[0m\u001b[1;33m)\u001b[0m\u001b[1;33m.\u001b[0m\u001b[0mT\u001b[0m\u001b[1;33m\u001b[0m\u001b[1;33m\u001b[0m\u001b[0m\n\u001b[0;32m    603\u001b[0m     \u001b[1;32melse\u001b[0m\u001b[1;33m:\u001b[0m\u001b[1;33m\u001b[0m\u001b[1;33m\u001b[0m\u001b[0m\n\u001b[1;32m--> 604\u001b[1;33m         \u001b[0my_hat\u001b[0m \u001b[1;33m=\u001b[0m \u001b[0mresampy\u001b[0m\u001b[1;33m.\u001b[0m\u001b[0mresample\u001b[0m\u001b[1;33m(\u001b[0m\u001b[0my\u001b[0m\u001b[1;33m,\u001b[0m \u001b[0morig_sr\u001b[0m\u001b[1;33m,\u001b[0m \u001b[0mtarget_sr\u001b[0m\u001b[1;33m,\u001b[0m \u001b[0mfilter\u001b[0m\u001b[1;33m=\u001b[0m\u001b[0mres_type\u001b[0m\u001b[1;33m,\u001b[0m \u001b[0maxis\u001b[0m\u001b[1;33m=\u001b[0m\u001b[1;33m-\u001b[0m\u001b[1;36m1\u001b[0m\u001b[1;33m)\u001b[0m\u001b[1;33m\u001b[0m\u001b[1;33m\u001b[0m\u001b[0m\n\u001b[0m\u001b[0;32m    605\u001b[0m \u001b[1;33m\u001b[0m\u001b[0m\n\u001b[0;32m    606\u001b[0m     \u001b[1;32mif\u001b[0m \u001b[0mfix\u001b[0m\u001b[1;33m:\u001b[0m\u001b[1;33m\u001b[0m\u001b[1;33m\u001b[0m\u001b[0m\n",
      "\u001b[1;32mc:\\users\\kasia\\pyproj\\machine-monitoring-conditions-unsupervised\\my_env\\lib\\site-packages\\resampy\\core.py\u001b[0m in \u001b[0;36mresample\u001b[1;34m(x, sr_orig, sr_new, axis, filter, **kwargs)\u001b[0m\n\u001b[0;32m    118\u001b[0m     \u001b[0mx_2d\u001b[0m \u001b[1;33m=\u001b[0m \u001b[0mx\u001b[0m\u001b[1;33m.\u001b[0m\u001b[0mswapaxes\u001b[0m\u001b[1;33m(\u001b[0m\u001b[1;36m0\u001b[0m\u001b[1;33m,\u001b[0m \u001b[0maxis\u001b[0m\u001b[1;33m)\u001b[0m\u001b[1;33m.\u001b[0m\u001b[0mreshape\u001b[0m\u001b[1;33m(\u001b[0m\u001b[1;33m(\u001b[0m\u001b[0mx\u001b[0m\u001b[1;33m.\u001b[0m\u001b[0mshape\u001b[0m\u001b[1;33m[\u001b[0m\u001b[0maxis\u001b[0m\u001b[1;33m]\u001b[0m\u001b[1;33m,\u001b[0m \u001b[1;33m-\u001b[0m\u001b[1;36m1\u001b[0m\u001b[1;33m)\u001b[0m\u001b[1;33m)\u001b[0m\u001b[1;33m\u001b[0m\u001b[1;33m\u001b[0m\u001b[0m\n\u001b[0;32m    119\u001b[0m     \u001b[0my_2d\u001b[0m \u001b[1;33m=\u001b[0m \u001b[0my\u001b[0m\u001b[1;33m.\u001b[0m\u001b[0mswapaxes\u001b[0m\u001b[1;33m(\u001b[0m\u001b[1;36m0\u001b[0m\u001b[1;33m,\u001b[0m \u001b[0maxis\u001b[0m\u001b[1;33m)\u001b[0m\u001b[1;33m.\u001b[0m\u001b[0mreshape\u001b[0m\u001b[1;33m(\u001b[0m\u001b[1;33m(\u001b[0m\u001b[0my\u001b[0m\u001b[1;33m.\u001b[0m\u001b[0mshape\u001b[0m\u001b[1;33m[\u001b[0m\u001b[0maxis\u001b[0m\u001b[1;33m]\u001b[0m\u001b[1;33m,\u001b[0m \u001b[1;33m-\u001b[0m\u001b[1;36m1\u001b[0m\u001b[1;33m)\u001b[0m\u001b[1;33m)\u001b[0m\u001b[1;33m\u001b[0m\u001b[1;33m\u001b[0m\u001b[0m\n\u001b[1;32m--> 120\u001b[1;33m     \u001b[0mresample_f\u001b[0m\u001b[1;33m(\u001b[0m\u001b[0mx_2d\u001b[0m\u001b[1;33m,\u001b[0m \u001b[0my_2d\u001b[0m\u001b[1;33m,\u001b[0m \u001b[0msample_ratio\u001b[0m\u001b[1;33m,\u001b[0m \u001b[0minterp_win\u001b[0m\u001b[1;33m,\u001b[0m \u001b[0minterp_delta\u001b[0m\u001b[1;33m,\u001b[0m \u001b[0mprecision\u001b[0m\u001b[1;33m)\u001b[0m\u001b[1;33m\u001b[0m\u001b[1;33m\u001b[0m\u001b[0m\n\u001b[0m\u001b[0;32m    121\u001b[0m \u001b[1;33m\u001b[0m\u001b[0m\n\u001b[0;32m    122\u001b[0m     \u001b[1;32mreturn\u001b[0m \u001b[0my\u001b[0m\u001b[1;33m\u001b[0m\u001b[1;33m\u001b[0m\u001b[0m\n",
      "\u001b[1;31mKeyboardInterrupt\u001b[0m: "
     ]
    }
   ],
   "source": [
    "retrieve_and_store_feature('valve', 'df_6dB_valve_fe_ta_imb.csv')"
   ]
  },
  {
   "cell_type": "code",
   "execution_count": null,
   "id": "0686ec4d",
   "metadata": {},
   "outputs": [],
   "source": [
    "retrieve_and_store_feature('pump', 'df_6dB_pump_fe_ta_imb.csv')"
   ]
  },
  {
   "cell_type": "code",
   "execution_count": null,
   "id": "d5e045a8",
   "metadata": {},
   "outputs": [],
   "source": [
    "retrieve_and_store_feature('slider', 'df_6dB_slider_fe_ta_imb.csv')"
   ]
  },
  {
   "cell_type": "code",
   "execution_count": null,
   "id": "09dd76d4",
   "metadata": {},
   "outputs": [],
   "source": [
    "retrieve_and_store_feature('fan', 'df_6dB_fan_fe_ta_imb.csv')"
   ]
  },
  {
   "cell_type": "code",
   "execution_count": null,
   "id": "4d1c024c",
   "metadata": {},
   "outputs": [],
   "source": []
  }
 ],
 "metadata": {
  "kernelspec": {
   "display_name": "Python 3 (ipykernel)",
   "language": "python",
   "name": "python3"
  },
  "language_info": {
   "codemirror_mode": {
    "name": "ipython",
    "version": 3
   },
   "file_extension": ".py",
   "mimetype": "text/x-python",
   "name": "python",
   "nbconvert_exporter": "python",
   "pygments_lexer": "ipython3",
   "version": "3.9.4"
  }
 },
 "nbformat": 4,
 "nbformat_minor": 5
}
