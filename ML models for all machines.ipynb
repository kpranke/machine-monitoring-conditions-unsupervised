{
 "cells": [
  {
   "cell_type": "code",
   "execution_count": 8,
   "id": "04d013ba",
   "metadata": {},
   "outputs": [],
   "source": [
    "#Import necessary libraries\n",
    "import numpy as np \n",
    "import pandas as pd \n",
    "import matplotlib.pyplot as plt\n",
    "import seaborn as sns\n",
    "%matplotlib inline\n",
    "from kneed import KneeLocator\n",
    "from sklearn.cluster import KMeans\n",
    "from sklearn.metrics import silhouette_score\n",
    "from sklearn.preprocessing import StandardScaler\n",
    "from yellowbrick.cluster import KElbowVisualizer\n",
    "import plotly.graph_objs as go\n",
    "from plotly import tools\n",
    "from plotly.subplots import make_subplots\n",
    "import plotly.offline as py"
   ]
  },
  {
   "cell_type": "code",
   "execution_count": 9,
   "id": "db3dca80",
   "metadata": {},
   "outputs": [],
   "source": [
    "# Create lists with machines and machine types:\n",
    "machine_files = ['./df_6dB_valve_fe_ta_imb.csv', './df_6dB_pump_fe_ta_imb.csv', './df_6dB_slider_fe_ta_imb.csv', './df_6dB_fan_fe_ta_imb.csv']\n",
    "machine_types = ['id_00', 'id_02', 'id_04', 'id_06']"
   ]
  },
  {
   "cell_type": "code",
   "execution_count": 10,
   "id": "5146e137",
   "metadata": {},
   "outputs": [
    {
     "name": "stderr",
     "output_type": "stream",
     "text": [
      "c:\\users\\kasia\\pyproj\\machine-monitoring-conditions-unsupervised\\my_env\\lib\\site-packages\\pandas\\core\\frame.py:4906: SettingWithCopyWarning:\n",
      "\n",
      "\n",
      "A value is trying to be set on a copy of a slice from a DataFrame\n",
      "\n",
      "See the caveats in the documentation: https://pandas.pydata.org/pandas-docs/stable/user_guide/indexing.html#returning-a-view-versus-a-copy\n",
      "\n"
     ]
    }
   ],
   "source": [
    "for file_path in machine_files: \n",
    "    df_original = pd.read_csv(f'{file_path}')\n",
    "    df_original.drop(['Unnamed: 0'],axis = 1, inplace = True)\n",
    "    df = df_original.drop(['target'],axis = 1)\n",
    "    for machine_type in machine_types:    \n",
    "        df_machine_type = df[df.machine_type == machine_type]\n",
    "        df_machine_type.reset_index()\n",
    "        df_machine_type.drop(['machine_type'],axis = 1, inplace = True) "
   ]
  },
  {
   "cell_type": "code",
   "execution_count": null,
   "id": "687cbfe1",
   "metadata": {},
   "outputs": [],
   "source": []
  }
 ],
 "metadata": {
  "kernelspec": {
   "display_name": "Python 3 (ipykernel)",
   "language": "python",
   "name": "python3"
  },
  "language_info": {
   "codemirror_mode": {
    "name": "ipython",
    "version": 3
   },
   "file_extension": ".py",
   "mimetype": "text/x-python",
   "name": "python",
   "nbconvert_exporter": "python",
   "pygments_lexer": "ipython3",
   "version": "3.9.4"
  }
 },
 "nbformat": 4,
 "nbformat_minor": 5
}
